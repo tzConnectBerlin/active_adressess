{
 "cells": [
  {
   "cell_type": "code",
   "execution_count": 1,
   "id": "c1057db6",
   "metadata": {},
   "outputs": [],
   "source": [
    "import pandas as pd\n",
    "import requests\n",
    "import time"
   ]
  },
  {
   "cell_type": "markdown",
   "id": "945a8704",
   "metadata": {},
   "source": [
    "# Art Basel "
   ]
  },
  {
   "cell_type": "code",
   "execution_count": 2,
   "id": "b4bfc8f5",
   "metadata": {},
   "outputs": [],
   "source": [
    "df_cleaned = pd.read_csv('cleaned_basel_data.csv')\n",
    "# convert time-columns into type: datetime64[ns, UTC]\n",
    "df_cleaned['FirstActivityTime'] = pd.to_datetime(df_cleaned['FirstActivityTime'])\n",
    "df_cleaned['LastActivityTime'] = pd.to_datetime(df_cleaned['LastActivityTime'])"
   ]
  },
  {
   "cell_type": "code",
   "execution_count": 3,
   "id": "c3512033",
   "metadata": {},
   "outputs": [],
   "source": [
    "# Only contains adresses that was created during Art-Basel Miami (2021-11-30 to 2021-12-04) \n",
    "df_basel = df_cleaned[(df_cleaned['FirstActivityTime'] >= '2021-11-30') & (df_cleaned['FirstActivityTime'] <= '2021-12-04')]\n",
    "df_basel = df_basel.drop(columns=['Unnamed: 0'])"
   ]
  },
  {
   "cell_type": "code",
   "execution_count": 4,
   "id": "5467759f",
   "metadata": {},
   "outputs": [
    {
     "name": "stdout",
     "output_type": "stream",
     "text": [
      "(1875, 6)\n",
      "(1869, 6)\n"
     ]
    }
   ],
   "source": [
    "print(df_basel.shape)\n",
    "print(df_basel[df_basel['Address'].str.contains('tz2')].shape)"
   ]
  },
  {
   "cell_type": "code",
   "execution_count": 5,
   "id": "1d22d7a6",
   "metadata": {},
   "outputs": [
    {
     "data": {
      "text/html": [
       "<div>\n",
       "<style scoped>\n",
       "    .dataframe tbody tr th:only-of-type {\n",
       "        vertical-align: middle;\n",
       "    }\n",
       "\n",
       "    .dataframe tbody tr th {\n",
       "        vertical-align: top;\n",
       "    }\n",
       "\n",
       "    .dataframe thead th {\n",
       "        text-align: right;\n",
       "    }\n",
       "</style>\n",
       "<table border=\"1\" class=\"dataframe\">\n",
       "  <thead>\n",
       "    <tr style=\"text-align: right;\">\n",
       "      <th></th>\n",
       "      <th>Balance</th>\n",
       "      <th>NumTransactions</th>\n",
       "    </tr>\n",
       "  </thead>\n",
       "  <tbody>\n",
       "    <tr>\n",
       "      <th>count</th>\n",
       "      <td>2.400000e+01</td>\n",
       "      <td>24.000000</td>\n",
       "    </tr>\n",
       "    <tr>\n",
       "      <th>mean</th>\n",
       "      <td>4.455814e+07</td>\n",
       "      <td>138.083333</td>\n",
       "    </tr>\n",
       "    <tr>\n",
       "      <th>std</th>\n",
       "      <td>1.761694e+08</td>\n",
       "      <td>510.837328</td>\n",
       "    </tr>\n",
       "    <tr>\n",
       "      <th>min</th>\n",
       "      <td>1.000000e+00</td>\n",
       "      <td>2.000000</td>\n",
       "    </tr>\n",
       "    <tr>\n",
       "      <th>25%</th>\n",
       "      <td>5.103990e+05</td>\n",
       "      <td>5.000000</td>\n",
       "    </tr>\n",
       "    <tr>\n",
       "      <th>50%</th>\n",
       "      <td>2.687772e+06</td>\n",
       "      <td>20.500000</td>\n",
       "    </tr>\n",
       "    <tr>\n",
       "      <th>75%</th>\n",
       "      <td>1.384859e+07</td>\n",
       "      <td>40.500000</td>\n",
       "    </tr>\n",
       "    <tr>\n",
       "      <th>max</th>\n",
       "      <td>8.688906e+08</td>\n",
       "      <td>2528.000000</td>\n",
       "    </tr>\n",
       "  </tbody>\n",
       "</table>\n",
       "</div>"
      ],
      "text/plain": [
       "            Balance  NumTransactions\n",
       "count  2.400000e+01        24.000000\n",
       "mean   4.455814e+07       138.083333\n",
       "std    1.761694e+08       510.837328\n",
       "min    1.000000e+00         2.000000\n",
       "25%    5.103990e+05         5.000000\n",
       "50%    2.687772e+06        20.500000\n",
       "75%    1.384859e+07        40.500000\n",
       "max    8.688906e+08      2528.000000"
      ]
     },
     "execution_count": 5,
     "metadata": {},
     "output_type": "execute_result"
    }
   ],
   "source": [
    "# Active addresses from Art Basel\n",
    "df_basel[(df_basel['Balance'] > 0) & (df_basel['NumTransactions'] > 1) & \n",
    "         (df_basel['Revealed'] == True) & (df_basel['Address'] != 'tz1dvHfCFsEt5QCNoVgKGqaK211C4ciNEVvK')].describe()"
   ]
  },
  {
   "cell_type": "code",
   "execution_count": 6,
   "id": "538e1794",
   "metadata": {},
   "outputs": [
    {
     "data": {
      "text/html": [
       "<div>\n",
       "<style scoped>\n",
       "    .dataframe tbody tr th:only-of-type {\n",
       "        vertical-align: middle;\n",
       "    }\n",
       "\n",
       "    .dataframe tbody tr th {\n",
       "        vertical-align: top;\n",
       "    }\n",
       "\n",
       "    .dataframe thead th {\n",
       "        text-align: right;\n",
       "    }\n",
       "</style>\n",
       "<table border=\"1\" class=\"dataframe\">\n",
       "  <thead>\n",
       "    <tr style=\"text-align: right;\">\n",
       "      <th></th>\n",
       "      <th>Address</th>\n",
       "      <th>Revealed</th>\n",
       "      <th>Balance</th>\n",
       "      <th>NumTransactions</th>\n",
       "      <th>FirstActivityTime</th>\n",
       "      <th>LastActivityTime</th>\n",
       "    </tr>\n",
       "  </thead>\n",
       "  <tbody>\n",
       "    <tr>\n",
       "      <th>10</th>\n",
       "      <td>tz1dvHfCFsEt5QCNoVgKGqaK211C4ciNEVvK</td>\n",
       "      <td>True</td>\n",
       "      <td>13358862</td>\n",
       "      <td>5346</td>\n",
       "      <td>2021-11-30 03:53:18+00:00</td>\n",
       "      <td>2022-04-08 03:48:59+00:00</td>\n",
       "    </tr>\n",
       "    <tr>\n",
       "      <th>49</th>\n",
       "      <td>tz1Y1zRiVkPtZ2S6BeMFGQNYBHLX7ghRLu6E</td>\n",
       "      <td>True</td>\n",
       "      <td>16446611</td>\n",
       "      <td>23</td>\n",
       "      <td>2021-12-02 18:20:34+00:00</td>\n",
       "      <td>2022-02-19 14:33:00+00:00</td>\n",
       "    </tr>\n",
       "    <tr>\n",
       "      <th>22</th>\n",
       "      <td>tz1LaEMAWhdNivc9GehK9TahJQnZcex8BeEM</td>\n",
       "      <td>True</td>\n",
       "      <td>1</td>\n",
       "      <td>2</td>\n",
       "      <td>2021-12-03 16:03:24+00:00</td>\n",
       "      <td>2021-12-16 01:55:16+00:00</td>\n",
       "    </tr>\n",
       "  </tbody>\n",
       "</table>\n",
       "</div>"
      ],
      "text/plain": [
       "                                 Address  Revealed   Balance  NumTransactions  \\\n",
       "10  tz1dvHfCFsEt5QCNoVgKGqaK211C4ciNEVvK      True  13358862             5346   \n",
       "49  tz1Y1zRiVkPtZ2S6BeMFGQNYBHLX7ghRLu6E      True  16446611               23   \n",
       "22  tz1LaEMAWhdNivc9GehK9TahJQnZcex8BeEM      True         1                2   \n",
       "\n",
       "           FirstActivityTime          LastActivityTime  \n",
       "10 2021-11-30 03:53:18+00:00 2022-04-08 03:48:59+00:00  \n",
       "49 2021-12-02 18:20:34+00:00 2022-02-19 14:33:00+00:00  \n",
       "22 2021-12-03 16:03:24+00:00 2021-12-16 01:55:16+00:00  "
      ]
     },
     "execution_count": 6,
     "metadata": {},
     "output_type": "execute_result"
    }
   ],
   "source": [
    "df_basel[(df_basel['Revealed']==True) & (df_basel['Address'].str.contains('tz1'))].sort_values(by=['NumTransactions'], ascending=False)"
   ]
  },
  {
   "cell_type": "code",
   "execution_count": 7,
   "id": "22dd973c",
   "metadata": {},
   "outputs": [
    {
     "data": {
      "text/html": [
       "<div>\n",
       "<style scoped>\n",
       "    .dataframe tbody tr th:only-of-type {\n",
       "        vertical-align: middle;\n",
       "    }\n",
       "\n",
       "    .dataframe tbody tr th {\n",
       "        vertical-align: top;\n",
       "    }\n",
       "\n",
       "    .dataframe thead th {\n",
       "        text-align: right;\n",
       "    }\n",
       "</style>\n",
       "<table border=\"1\" class=\"dataframe\">\n",
       "  <thead>\n",
       "    <tr style=\"text-align: right;\">\n",
       "      <th></th>\n",
       "      <th>Address</th>\n",
       "      <th>Revealed</th>\n",
       "      <th>Balance</th>\n",
       "      <th>NumTransactions</th>\n",
       "      <th>FirstActivityTime</th>\n",
       "      <th>LastActivityTime</th>\n",
       "    </tr>\n",
       "  </thead>\n",
       "  <tbody>\n",
       "    <tr>\n",
       "      <th>1614</th>\n",
       "      <td>tz2MWg6zmBScnYhdX6gPYUBDBTZTCrTgbq9f</td>\n",
       "      <td>True</td>\n",
       "      <td>3602759</td>\n",
       "      <td>2528</td>\n",
       "      <td>2021-12-02 21:26:04+00:00</td>\n",
       "      <td>2022-03-31 11:36:44+00:00</td>\n",
       "    </tr>\n",
       "    <tr>\n",
       "      <th>392</th>\n",
       "      <td>tz2B7c5aTPMBKZ1LffnJje1eQESRiTphS67f</td>\n",
       "      <td>True</td>\n",
       "      <td>557843</td>\n",
       "      <td>142</td>\n",
       "      <td>2021-12-01 15:23:24+00:00</td>\n",
       "      <td>2022-03-20 03:29:54+00:00</td>\n",
       "    </tr>\n",
       "    <tr>\n",
       "      <th>1243</th>\n",
       "      <td>tz2JVE7aafLTPSWKWJTsHUxPDP2GM56bumvp</td>\n",
       "      <td>True</td>\n",
       "      <td>29120642</td>\n",
       "      <td>133</td>\n",
       "      <td>2021-12-03 17:43:14+00:00</td>\n",
       "      <td>2022-03-18 23:33:04+00:00</td>\n",
       "    </tr>\n",
       "    <tr>\n",
       "      <th>516</th>\n",
       "      <td>tz2Ca9unrTrHdMgP6c7em3or7NEXezx71RjW</td>\n",
       "      <td>True</td>\n",
       "      <td>200398</td>\n",
       "      <td>112</td>\n",
       "      <td>2021-12-02 20:36:14+00:00</td>\n",
       "      <td>2022-04-07 18:24:44+00:00</td>\n",
       "    </tr>\n",
       "    <tr>\n",
       "      <th>1652</th>\n",
       "      <td>tz2NFESDvbDLzeQCe43JXusQZV6c8v5a5vPK</td>\n",
       "      <td>True</td>\n",
       "      <td>868890567</td>\n",
       "      <td>88</td>\n",
       "      <td>2021-12-01 09:56:44+00:00</td>\n",
       "      <td>2022-04-07 21:17:44+00:00</td>\n",
       "    </tr>\n",
       "    <tr>\n",
       "      <th>2467</th>\n",
       "      <td>tz2VWS8ysYtrmGGd6D9ckUjnnTbj32noDDua</td>\n",
       "      <td>True</td>\n",
       "      <td>5154459</td>\n",
       "      <td>75</td>\n",
       "      <td>2021-11-30 21:15:58+00:00</td>\n",
       "      <td>2022-04-07 21:19:29+00:00</td>\n",
       "    </tr>\n",
       "    <tr>\n",
       "      <th>2254</th>\n",
       "      <td>tz2TWs1ge69bFg4wZ8CDcrRKL4ZNCmD5qrDR</td>\n",
       "      <td>True</td>\n",
       "      <td>535647</td>\n",
       "      <td>29</td>\n",
       "      <td>2021-12-02 19:58:14+00:00</td>\n",
       "      <td>2022-03-15 21:25:14+00:00</td>\n",
       "    </tr>\n",
       "    <tr>\n",
       "      <th>96</th>\n",
       "      <td>tz28qTF85jVbsRnp6hAVbzG4E4JpUG2RVN95</td>\n",
       "      <td>True</td>\n",
       "      <td>1772784</td>\n",
       "      <td>28</td>\n",
       "      <td>2021-12-02 20:08:14+00:00</td>\n",
       "      <td>2022-03-29 15:18:34+00:00</td>\n",
       "    </tr>\n",
       "    <tr>\n",
       "      <th>395</th>\n",
       "      <td>tz2B8wVFTQ9YJdgojYdKGiVktvYuuLubduWb</td>\n",
       "      <td>True</td>\n",
       "      <td>232028</td>\n",
       "      <td>27</td>\n",
       "      <td>2021-12-02 19:05:34+00:00</td>\n",
       "      <td>2022-02-01 01:33:18+00:00</td>\n",
       "    </tr>\n",
       "    <tr>\n",
       "      <th>1641</th>\n",
       "      <td>tz2NAzkxj8NnDEoxfNxS8CegdC4jRHz5AHWU</td>\n",
       "      <td>True</td>\n",
       "      <td>60345447</td>\n",
       "      <td>26</td>\n",
       "      <td>2021-12-03 16:48:34+00:00</td>\n",
       "      <td>2022-04-07 00:21:29+00:00</td>\n",
       "    </tr>\n",
       "    <tr>\n",
       "      <th>49</th>\n",
       "      <td>tz1Y1zRiVkPtZ2S6BeMFGQNYBHLX7ghRLu6E</td>\n",
       "      <td>True</td>\n",
       "      <td>16446611</td>\n",
       "      <td>23</td>\n",
       "      <td>2021-12-02 18:20:34+00:00</td>\n",
       "      <td>2022-02-19 14:33:00+00:00</td>\n",
       "    </tr>\n",
       "    <tr>\n",
       "      <th>1756</th>\n",
       "      <td>tz2PEQ4hGruA9xoCs639SzNotahm93u75NZf</td>\n",
       "      <td>True</td>\n",
       "      <td>3877112</td>\n",
       "      <td>21</td>\n",
       "      <td>2021-12-02 19:37:14+00:00</td>\n",
       "      <td>2021-12-08 21:53:20+00:00</td>\n",
       "    </tr>\n",
       "    <tr>\n",
       "      <th>1610</th>\n",
       "      <td>tz2MVqj7YNX3dzNNZeGpmLQxzfeYPD8dMTJ7</td>\n",
       "      <td>True</td>\n",
       "      <td>33709218</td>\n",
       "      <td>20</td>\n",
       "      <td>2021-11-30 15:48:18+00:00</td>\n",
       "      <td>2022-03-13 00:34:24+00:00</td>\n",
       "    </tr>\n",
       "    <tr>\n",
       "      <th>2370</th>\n",
       "      <td>tz2V1vQ7imMCQoeNs5umHYL4113eReZQRYsV</td>\n",
       "      <td>True</td>\n",
       "      <td>684769</td>\n",
       "      <td>17</td>\n",
       "      <td>2021-11-30 12:16:08+00:00</td>\n",
       "      <td>2022-03-11 07:54:14+00:00</td>\n",
       "    </tr>\n",
       "    <tr>\n",
       "      <th>2585</th>\n",
       "      <td>tz2WVn5Ps5gYqkFtL8vjScpEs7g6Wj4Mjiab</td>\n",
       "      <td>True</td>\n",
       "      <td>875217</td>\n",
       "      <td>13</td>\n",
       "      <td>2021-11-30 14:36:38+00:00</td>\n",
       "      <td>2022-03-12 17:16:24+00:00</td>\n",
       "    </tr>\n",
       "    <tr>\n",
       "      <th>1322</th>\n",
       "      <td>tz2Kfde1MRtrib6pJsMGB5fB7dpndWviSHky</td>\n",
       "      <td>True</td>\n",
       "      <td>17323076</td>\n",
       "      <td>8</td>\n",
       "      <td>2021-11-30 13:55:08+00:00</td>\n",
       "      <td>2021-12-16 02:31:06+00:00</td>\n",
       "    </tr>\n",
       "    <tr>\n",
       "      <th>1521</th>\n",
       "      <td>tz2M8X5RR4Aue2GMvtwVqLcwn5uuHTDkSkHp</td>\n",
       "      <td>True</td>\n",
       "      <td>4978340</td>\n",
       "      <td>6</td>\n",
       "      <td>2021-12-02 19:53:44+00:00</td>\n",
       "      <td>2022-03-31 17:18:24+00:00</td>\n",
       "    </tr>\n",
       "    <tr>\n",
       "      <th>1301</th>\n",
       "      <td>tz2KAfW6DzaCRFcjvBJGs5nzEBX43HHunpV3</td>\n",
       "      <td>True</td>\n",
       "      <td>7046917</td>\n",
       "      <td>6</td>\n",
       "      <td>2021-12-03 22:19:14+00:00</td>\n",
       "      <td>2022-03-04 23:30:04+00:00</td>\n",
       "    </tr>\n",
       "    <tr>\n",
       "      <th>1377</th>\n",
       "      <td>tz2KUseTZtus8cjZTuV6fu7HYEgegPTb9SJN</td>\n",
       "      <td>True</td>\n",
       "      <td>45535</td>\n",
       "      <td>2</td>\n",
       "      <td>2021-11-30 13:53:38+00:00</td>\n",
       "      <td>2021-11-30 14:17:08+00:00</td>\n",
       "    </tr>\n",
       "    <tr>\n",
       "      <th>1887</th>\n",
       "      <td>tz2Qj2FwNmMmvvYsN91owT56gRCQFSoxSiEi</td>\n",
       "      <td>True</td>\n",
       "      <td>499164</td>\n",
       "      <td>2</td>\n",
       "      <td>2021-12-02 18:36:34+00:00</td>\n",
       "      <td>2021-12-08 17:17:10+00:00</td>\n",
       "    </tr>\n",
       "    <tr>\n",
       "      <th>2355</th>\n",
       "      <td>tz2UXF2pGUdW7PX4fCFnNUV5qev8f2smB8rz</td>\n",
       "      <td>True</td>\n",
       "      <td>514144</td>\n",
       "      <td>2</td>\n",
       "      <td>2021-12-01 21:17:24+00:00</td>\n",
       "      <td>2021-12-01 21:35:54+00:00</td>\n",
       "    </tr>\n",
       "    <tr>\n",
       "      <th>956</th>\n",
       "      <td>tz2GAGDWQhRaTGQDtbKghBwW15Mckxk8Pyjp</td>\n",
       "      <td>True</td>\n",
       "      <td>1</td>\n",
       "      <td>2</td>\n",
       "      <td>2021-12-03 20:13:54+00:00</td>\n",
       "      <td>2021-12-04 23:57:50+00:00</td>\n",
       "    </tr>\n",
       "    <tr>\n",
       "      <th>823</th>\n",
       "      <td>tz2F961M8TLknwJzu4XHPWG9Xn2iM7LkWm5o</td>\n",
       "      <td>True</td>\n",
       "      <td>12982586</td>\n",
       "      <td>2</td>\n",
       "      <td>2021-12-03 19:52:34+00:00</td>\n",
       "      <td>2022-01-08 18:54:40+00:00</td>\n",
       "    </tr>\n",
       "    <tr>\n",
       "      <th>22</th>\n",
       "      <td>tz1LaEMAWhdNivc9GehK9TahJQnZcex8BeEM</td>\n",
       "      <td>True</td>\n",
       "      <td>1</td>\n",
       "      <td>2</td>\n",
       "      <td>2021-12-03 16:03:24+00:00</td>\n",
       "      <td>2021-12-16 01:55:16+00:00</td>\n",
       "    </tr>\n",
       "  </tbody>\n",
       "</table>\n",
       "</div>"
      ],
      "text/plain": [
       "                                   Address  Revealed    Balance  \\\n",
       "1614  tz2MWg6zmBScnYhdX6gPYUBDBTZTCrTgbq9f      True    3602759   \n",
       "392   tz2B7c5aTPMBKZ1LffnJje1eQESRiTphS67f      True     557843   \n",
       "1243  tz2JVE7aafLTPSWKWJTsHUxPDP2GM56bumvp      True   29120642   \n",
       "516   tz2Ca9unrTrHdMgP6c7em3or7NEXezx71RjW      True     200398   \n",
       "1652  tz2NFESDvbDLzeQCe43JXusQZV6c8v5a5vPK      True  868890567   \n",
       "2467  tz2VWS8ysYtrmGGd6D9ckUjnnTbj32noDDua      True    5154459   \n",
       "2254  tz2TWs1ge69bFg4wZ8CDcrRKL4ZNCmD5qrDR      True     535647   \n",
       "96    tz28qTF85jVbsRnp6hAVbzG4E4JpUG2RVN95      True    1772784   \n",
       "395   tz2B8wVFTQ9YJdgojYdKGiVktvYuuLubduWb      True     232028   \n",
       "1641  tz2NAzkxj8NnDEoxfNxS8CegdC4jRHz5AHWU      True   60345447   \n",
       "49    tz1Y1zRiVkPtZ2S6BeMFGQNYBHLX7ghRLu6E      True   16446611   \n",
       "1756  tz2PEQ4hGruA9xoCs639SzNotahm93u75NZf      True    3877112   \n",
       "1610  tz2MVqj7YNX3dzNNZeGpmLQxzfeYPD8dMTJ7      True   33709218   \n",
       "2370  tz2V1vQ7imMCQoeNs5umHYL4113eReZQRYsV      True     684769   \n",
       "2585  tz2WVn5Ps5gYqkFtL8vjScpEs7g6Wj4Mjiab      True     875217   \n",
       "1322  tz2Kfde1MRtrib6pJsMGB5fB7dpndWviSHky      True   17323076   \n",
       "1521  tz2M8X5RR4Aue2GMvtwVqLcwn5uuHTDkSkHp      True    4978340   \n",
       "1301  tz2KAfW6DzaCRFcjvBJGs5nzEBX43HHunpV3      True    7046917   \n",
       "1377  tz2KUseTZtus8cjZTuV6fu7HYEgegPTb9SJN      True      45535   \n",
       "1887  tz2Qj2FwNmMmvvYsN91owT56gRCQFSoxSiEi      True     499164   \n",
       "2355  tz2UXF2pGUdW7PX4fCFnNUV5qev8f2smB8rz      True     514144   \n",
       "956   tz2GAGDWQhRaTGQDtbKghBwW15Mckxk8Pyjp      True          1   \n",
       "823   tz2F961M8TLknwJzu4XHPWG9Xn2iM7LkWm5o      True   12982586   \n",
       "22    tz1LaEMAWhdNivc9GehK9TahJQnZcex8BeEM      True          1   \n",
       "\n",
       "      NumTransactions         FirstActivityTime          LastActivityTime  \n",
       "1614             2528 2021-12-02 21:26:04+00:00 2022-03-31 11:36:44+00:00  \n",
       "392               142 2021-12-01 15:23:24+00:00 2022-03-20 03:29:54+00:00  \n",
       "1243              133 2021-12-03 17:43:14+00:00 2022-03-18 23:33:04+00:00  \n",
       "516               112 2021-12-02 20:36:14+00:00 2022-04-07 18:24:44+00:00  \n",
       "1652               88 2021-12-01 09:56:44+00:00 2022-04-07 21:17:44+00:00  \n",
       "2467               75 2021-11-30 21:15:58+00:00 2022-04-07 21:19:29+00:00  \n",
       "2254               29 2021-12-02 19:58:14+00:00 2022-03-15 21:25:14+00:00  \n",
       "96                 28 2021-12-02 20:08:14+00:00 2022-03-29 15:18:34+00:00  \n",
       "395                27 2021-12-02 19:05:34+00:00 2022-02-01 01:33:18+00:00  \n",
       "1641               26 2021-12-03 16:48:34+00:00 2022-04-07 00:21:29+00:00  \n",
       "49                 23 2021-12-02 18:20:34+00:00 2022-02-19 14:33:00+00:00  \n",
       "1756               21 2021-12-02 19:37:14+00:00 2021-12-08 21:53:20+00:00  \n",
       "1610               20 2021-11-30 15:48:18+00:00 2022-03-13 00:34:24+00:00  \n",
       "2370               17 2021-11-30 12:16:08+00:00 2022-03-11 07:54:14+00:00  \n",
       "2585               13 2021-11-30 14:36:38+00:00 2022-03-12 17:16:24+00:00  \n",
       "1322                8 2021-11-30 13:55:08+00:00 2021-12-16 02:31:06+00:00  \n",
       "1521                6 2021-12-02 19:53:44+00:00 2022-03-31 17:18:24+00:00  \n",
       "1301                6 2021-12-03 22:19:14+00:00 2022-03-04 23:30:04+00:00  \n",
       "1377                2 2021-11-30 13:53:38+00:00 2021-11-30 14:17:08+00:00  \n",
       "1887                2 2021-12-02 18:36:34+00:00 2021-12-08 17:17:10+00:00  \n",
       "2355                2 2021-12-01 21:17:24+00:00 2021-12-01 21:35:54+00:00  \n",
       "956                 2 2021-12-03 20:13:54+00:00 2021-12-04 23:57:50+00:00  \n",
       "823                 2 2021-12-03 19:52:34+00:00 2022-01-08 18:54:40+00:00  \n",
       "22                  2 2021-12-03 16:03:24+00:00 2021-12-16 01:55:16+00:00  "
      ]
     },
     "execution_count": 7,
     "metadata": {},
     "output_type": "execute_result"
    }
   ],
   "source": [
    "df_basel[(df_basel['Balance'] > 0) & (df_basel['NumTransactions'] > 1) &\n",
    "        (~df_basel['Address'].isin(['tz1dvHfCFsEt5QCNoVgKGqaK211C4ciNEVvK']))].sort_values(by=['NumTransactions'], ascending=False)"
   ]
  },
  {
   "cell_type": "code",
   "execution_count": null,
   "id": "790226f4",
   "metadata": {},
   "outputs": [],
   "source": []
  },
  {
   "cell_type": "markdown",
   "id": "6e42c703",
   "metadata": {},
   "source": [
    "# Below the code is not cleaned up yet "
   ]
  },
  {
   "cell_type": "code",
   "execution_count": 2,
   "id": "b5db4452",
   "metadata": {},
   "outputs": [],
   "source": [
    "df = pd.read_csv('raw_art_basel.csv')"
   ]
  },
  {
   "cell_type": "code",
   "execution_count": 3,
   "id": "7bd1a7cf",
   "metadata": {},
   "outputs": [],
   "source": [
    "cleaned_basel = pd.read_csv('cleaned_basel_data.csv')"
   ]
  },
  {
   "cell_type": "code",
   "execution_count": 4,
   "id": "a13f6909",
   "metadata": {},
   "outputs": [
    {
     "data": {
      "text/plain": [
       "str"
      ]
     },
     "execution_count": 4,
     "metadata": {},
     "output_type": "execute_result"
    }
   ],
   "source": [
    "type(cleaned_basel['FirstActivityTime'].loc[2682])"
   ]
  },
  {
   "cell_type": "code",
   "execution_count": 5,
   "id": "c9242371",
   "metadata": {},
   "outputs": [
    {
     "data": {
      "text/html": [
       "<div>\n",
       "<style scoped>\n",
       "    .dataframe tbody tr th:only-of-type {\n",
       "        vertical-align: middle;\n",
       "    }\n",
       "\n",
       "    .dataframe tbody tr th {\n",
       "        vertical-align: top;\n",
       "    }\n",
       "\n",
       "    .dataframe thead th {\n",
       "        text-align: right;\n",
       "    }\n",
       "</style>\n",
       "<table border=\"1\" class=\"dataframe\">\n",
       "  <thead>\n",
       "    <tr style=\"text-align: right;\">\n",
       "      <th></th>\n",
       "      <th>Unnamed: 0</th>\n",
       "      <th>Address</th>\n",
       "      <th>Revealed</th>\n",
       "      <th>Balance</th>\n",
       "      <th>NumTransactions</th>\n",
       "      <th>FirstActivityTime</th>\n",
       "      <th>LastActivityTime</th>\n",
       "    </tr>\n",
       "  </thead>\n",
       "  <tbody>\n",
       "    <tr>\n",
       "      <th>2678</th>\n",
       "      <td>2678</td>\n",
       "      <td>tz1XJ8KCZKTGcusVM8etTLPBHhKas9UvxjKv</td>\n",
       "      <td>False</td>\n",
       "      <td>351000000</td>\n",
       "      <td>3</td>\n",
       "      <td>2022-02-05T20:26:54Z</td>\n",
       "      <td>2022-02-19T14:31:30Z</td>\n",
       "    </tr>\n",
       "    <tr>\n",
       "      <th>2679</th>\n",
       "      <td>2679</td>\n",
       "      <td>tz1bz3RpamvkvNCLfsjN22VCqs4LCVrFnNEB</td>\n",
       "      <td>True</td>\n",
       "      <td>283490614</td>\n",
       "      <td>24344</td>\n",
       "      <td>2021-09-12T06:42:02Z</td>\n",
       "      <td>2022-04-07T15:15:44Z</td>\n",
       "    </tr>\n",
       "    <tr>\n",
       "      <th>2680</th>\n",
       "      <td>2680</td>\n",
       "      <td>tz1Lu3SXts97DC76unSBkeyZJfZdxz8yFmwy</td>\n",
       "      <td>True</td>\n",
       "      <td>3659578</td>\n",
       "      <td>560</td>\n",
       "      <td>2021-10-07T21:34:12Z</td>\n",
       "      <td>2022-04-03T19:56:44Z</td>\n",
       "    </tr>\n",
       "    <tr>\n",
       "      <th>2681</th>\n",
       "      <td>2681</td>\n",
       "      <td>tz1ZfzrEiBWK4bJHedabk6qivJ62Q5YEEgGU</td>\n",
       "      <td>True</td>\n",
       "      <td>28943734</td>\n",
       "      <td>595</td>\n",
       "      <td>2021-04-25T18:02:24Z</td>\n",
       "      <td>2022-02-19T00:36:30Z</td>\n",
       "    </tr>\n",
       "    <tr>\n",
       "      <th>2682</th>\n",
       "      <td>2682</td>\n",
       "      <td>tz1NCPD1dD6ZutDDD4akb2P13eSpGe6jQAvL</td>\n",
       "      <td>True</td>\n",
       "      <td>12875337</td>\n",
       "      <td>7888</td>\n",
       "      <td>2021-05-06T15:15:45Z</td>\n",
       "      <td>2022-04-07T17:34:29Z</td>\n",
       "    </tr>\n",
       "  </tbody>\n",
       "</table>\n",
       "</div>"
      ],
      "text/plain": [
       "      Unnamed: 0                               Address  Revealed    Balance  \\\n",
       "2678        2678  tz1XJ8KCZKTGcusVM8etTLPBHhKas9UvxjKv     False  351000000   \n",
       "2679        2679  tz1bz3RpamvkvNCLfsjN22VCqs4LCVrFnNEB      True  283490614   \n",
       "2680        2680  tz1Lu3SXts97DC76unSBkeyZJfZdxz8yFmwy      True    3659578   \n",
       "2681        2681  tz1ZfzrEiBWK4bJHedabk6qivJ62Q5YEEgGU      True   28943734   \n",
       "2682        2682  tz1NCPD1dD6ZutDDD4akb2P13eSpGe6jQAvL      True   12875337   \n",
       "\n",
       "      NumTransactions     FirstActivityTime      LastActivityTime  \n",
       "2678                3  2022-02-05T20:26:54Z  2022-02-19T14:31:30Z  \n",
       "2679            24344  2021-09-12T06:42:02Z  2022-04-07T15:15:44Z  \n",
       "2680              560  2021-10-07T21:34:12Z  2022-04-03T19:56:44Z  \n",
       "2681              595  2021-04-25T18:02:24Z  2022-02-19T00:36:30Z  \n",
       "2682             7888  2021-05-06T15:15:45Z  2022-04-07T17:34:29Z  "
      ]
     },
     "execution_count": 5,
     "metadata": {},
     "output_type": "execute_result"
    }
   ],
   "source": [
    "cleaned_basel.tail()"
   ]
  },
  {
   "cell_type": "code",
   "execution_count": 6,
   "id": "0875e089",
   "metadata": {},
   "outputs": [
    {
     "data": {
      "text/plain": [
       "Unnamed: 0            int64\n",
       "Address              object\n",
       "Revealed               bool\n",
       "Balance               int64\n",
       "NumTransactions       int64\n",
       "FirstActivityTime    object\n",
       "LastActivityTime     object\n",
       "dtype: object"
      ]
     },
     "execution_count": 6,
     "metadata": {},
     "output_type": "execute_result"
    }
   ],
   "source": [
    "cleaned_basel.dtypes"
   ]
  },
  {
   "cell_type": "code",
   "execution_count": 7,
   "id": "4fdf7706",
   "metadata": {},
   "outputs": [],
   "source": [
    "cleaned_basel['FirstActivityTime'] = pd.to_datetime(cleaned_basel['FirstActivityTime']) "
   ]
  },
  {
   "cell_type": "code",
   "execution_count": 8,
   "id": "ea7606f5",
   "metadata": {},
   "outputs": [
    {
     "name": "stdout",
     "output_type": "stream",
     "text": [
      "(1875, 7)\n"
     ]
    }
   ],
   "source": [
    "t = cleaned_basel[(cleaned_basel['FirstActivityTime'] >= '2021-11-30') & (cleaned_basel['FirstActivityTime'] <= '2021-12-04')]\n",
    "print(t.shape)"
   ]
  },
  {
   "cell_type": "code",
   "execution_count": 9,
   "id": "ca031e6c",
   "metadata": {},
   "outputs": [
    {
     "data": {
      "text/html": [
       "<div>\n",
       "<style scoped>\n",
       "    .dataframe tbody tr th:only-of-type {\n",
       "        vertical-align: middle;\n",
       "    }\n",
       "\n",
       "    .dataframe tbody tr th {\n",
       "        vertical-align: top;\n",
       "    }\n",
       "\n",
       "    .dataframe thead th {\n",
       "        text-align: right;\n",
       "    }\n",
       "</style>\n",
       "<table border=\"1\" class=\"dataframe\">\n",
       "  <thead>\n",
       "    <tr style=\"text-align: right;\">\n",
       "      <th></th>\n",
       "      <th>Unnamed: 0</th>\n",
       "      <th>Address</th>\n",
       "      <th>Revealed</th>\n",
       "      <th>Balance</th>\n",
       "      <th>NumTransactions</th>\n",
       "      <th>FirstActivityTime</th>\n",
       "      <th>LastActivityTime</th>\n",
       "    </tr>\n",
       "  </thead>\n",
       "  <tbody>\n",
       "    <tr>\n",
       "      <th>10</th>\n",
       "      <td>10</td>\n",
       "      <td>tz1dvHfCFsEt5QCNoVgKGqaK211C4ciNEVvK</td>\n",
       "      <td>True</td>\n",
       "      <td>13358862</td>\n",
       "      <td>5346</td>\n",
       "      <td>2021-11-30 03:53:18+00:00</td>\n",
       "      <td>2022-04-08T03:48:59Z</td>\n",
       "    </tr>\n",
       "  </tbody>\n",
       "</table>\n",
       "</div>"
      ],
      "text/plain": [
       "    Unnamed: 0                               Address  Revealed   Balance  \\\n",
       "10          10  tz1dvHfCFsEt5QCNoVgKGqaK211C4ciNEVvK      True  13358862   \n",
       "\n",
       "    NumTransactions         FirstActivityTime      LastActivityTime  \n",
       "10             5346 2021-11-30 03:53:18+00:00  2022-04-08T03:48:59Z  "
      ]
     },
     "metadata": {},
     "output_type": "display_data"
    },
    {
     "data": {
      "text/html": [
       "<div>\n",
       "<style scoped>\n",
       "    .dataframe tbody tr th:only-of-type {\n",
       "        vertical-align: middle;\n",
       "    }\n",
       "\n",
       "    .dataframe tbody tr th {\n",
       "        vertical-align: top;\n",
       "    }\n",
       "\n",
       "    .dataframe thead th {\n",
       "        text-align: right;\n",
       "    }\n",
       "</style>\n",
       "<table border=\"1\" class=\"dataframe\">\n",
       "  <thead>\n",
       "    <tr style=\"text-align: right;\">\n",
       "      <th></th>\n",
       "      <th>Unnamed: 0</th>\n",
       "      <th>Address</th>\n",
       "      <th>Revealed</th>\n",
       "      <th>Balance</th>\n",
       "      <th>NumTransactions</th>\n",
       "      <th>FirstActivityTime</th>\n",
       "      <th>LastActivityTime</th>\n",
       "    </tr>\n",
       "  </thead>\n",
       "  <tbody>\n",
       "    <tr>\n",
       "      <th>1652</th>\n",
       "      <td>1652</td>\n",
       "      <td>tz2NFESDvbDLzeQCe43JXusQZV6c8v5a5vPK</td>\n",
       "      <td>True</td>\n",
       "      <td>868890567</td>\n",
       "      <td>88</td>\n",
       "      <td>2021-12-01 09:56:44+00:00</td>\n",
       "      <td>2022-04-07T21:17:44Z</td>\n",
       "    </tr>\n",
       "  </tbody>\n",
       "</table>\n",
       "</div>"
      ],
      "text/plain": [
       "      Unnamed: 0                               Address  Revealed    Balance  \\\n",
       "1652        1652  tz2NFESDvbDLzeQCe43JXusQZV6c8v5a5vPK      True  868890567   \n",
       "\n",
       "      NumTransactions         FirstActivityTime      LastActivityTime  \n",
       "1652               88 2021-12-01 09:56:44+00:00  2022-04-07T21:17:44Z  "
      ]
     },
     "metadata": {},
     "output_type": "display_data"
    }
   ],
   "source": [
    "display(t[t['NumTransactions'] >= 5346])\n",
    "display(t[t['Balance'] >= 8.688906e+07])"
   ]
  },
  {
   "cell_type": "code",
   "execution_count": 10,
   "id": "ea58b318",
   "metadata": {},
   "outputs": [
    {
     "name": "stdout",
     "output_type": "stream",
     "text": [
      "        Unnamed: 0       Balance  NumTransactions\n",
      "count    24.000000  2.400000e+01        24.000000\n",
      "mean   1341.833333  4.455814e+07       138.083333\n",
      "std     792.271235  1.761694e+08       510.837328\n",
      "min      22.000000  1.000000e+00         2.000000\n",
      "25%     746.250000  5.103990e+05         5.000000\n",
      "50%    1449.000000  2.687772e+06        20.500000\n",
      "75%    1788.750000  1.384859e+07        40.500000\n",
      "max    2585.000000  8.688906e+08      2528.000000 \n",
      "\n",
      "        Unnamed: 0       Balance  NumTransactions\n",
      "count    33.000000  3.300000e+01        33.000000\n",
      "mean   1296.212121  3.456863e+07       262.666667\n",
      "std     865.510679  1.504915e+08      1011.843882\n",
      "min      10.000000  1.000000e+00         1.000000\n",
      "25%     516.000000  5.141440e+05         2.000000\n",
      "50%    1322.000000  1.772784e+06         8.000000\n",
      "75%    1887.000000  1.298259e+07        28.000000\n",
      "max    2677.000000  8.688906e+08      5346.000000 \n",
      "\n",
      "        Unnamed: 0       Balance  NumTransactions\n",
      "count    33.000000  3.300000e+01        33.000000\n",
      "mean   1296.212121  3.456863e+07       262.666667\n",
      "std     865.510679  1.504915e+08      1011.843882\n",
      "min      10.000000  1.000000e+00         1.000000\n",
      "25%     516.000000  5.141440e+05         2.000000\n",
      "50%    1322.000000  1.772784e+06         8.000000\n",
      "75%    1887.000000  1.298259e+07        28.000000\n",
      "max    2677.000000  8.688906e+08      5346.000000\n"
     ]
    }
   ],
   "source": [
    "# t.describe([['Balance', 'NumTransactions']])\n",
    "print(t[(t['Revealed'] == True) & (t['NumTransactions'] > 1) & (t['Address'] !='tz1dvHfCFsEt5QCNoVgKGqaK211C4ciNEVvK')].describe(), '\\n')\n",
    "print(t[(t['Balance'] > 0)].describe(), '\\n')\n",
    "print(t[t['NumTransactions'] > 0].describe())"
   ]
  },
  {
   "cell_type": "code",
   "execution_count": 30,
   "id": "5ef5b3aa",
   "metadata": {},
   "outputs": [
    {
     "name": "stdout",
     "output_type": "stream",
     "text": [
      "tx_context_id                                        int64\n",
      "id                                                   int64\n",
      "idx_assets_address                                  object\n",
      "idx_assets_nat                                       int64\n",
      "assets_nat                                           int64\n",
      "bigmap_id                                            int64\n",
      "level                                                int64\n",
      "level_timestamp       datetime64[ns, pytz.FixedOffset(60)]\n",
      "dtype: object\n"
     ]
    }
   ],
   "source": [
    "df['level_timestamp'] = pd.to_datetime(df['level_timestamp'])\n",
    "print(df.dtypes)"
   ]
  },
  {
   "cell_type": "code",
   "execution_count": 37,
   "id": "435e5a47",
   "metadata": {},
   "outputs": [
    {
     "data": {
      "text/plain": [
       "(3197, 8)"
      ]
     },
     "execution_count": 37,
     "metadata": {},
     "output_type": "execute_result"
    }
   ],
   "source": [
    "df[(df['level_timestamp']>='2021-11-30') & (df['level_timestamp']<='2021-12-04')].shape"
   ]
  },
  {
   "cell_type": "code",
   "execution_count": 35,
   "id": "1bf9e8b3",
   "metadata": {},
   "outputs": [
    {
     "data": {
      "text/html": [
       "<div>\n",
       "<style scoped>\n",
       "    .dataframe tbody tr th:only-of-type {\n",
       "        vertical-align: middle;\n",
       "    }\n",
       "\n",
       "    .dataframe tbody tr th {\n",
       "        vertical-align: top;\n",
       "    }\n",
       "\n",
       "    .dataframe thead th {\n",
       "        text-align: right;\n",
       "    }\n",
       "</style>\n",
       "<table border=\"1\" class=\"dataframe\">\n",
       "  <thead>\n",
       "    <tr style=\"text-align: right;\">\n",
       "      <th></th>\n",
       "      <th>tx_context_id</th>\n",
       "      <th>id</th>\n",
       "      <th>idx_assets_address</th>\n",
       "      <th>idx_assets_nat</th>\n",
       "      <th>assets_nat</th>\n",
       "      <th>bigmap_id</th>\n",
       "      <th>level</th>\n",
       "      <th>level_timestamp</th>\n",
       "    </tr>\n",
       "  </thead>\n",
       "  <tbody>\n",
       "    <tr>\n",
       "      <th>2444</th>\n",
       "      <td>3127</td>\n",
       "      <td>3144</td>\n",
       "      <td>tz2KUseTZtus8cjZTuV6fu7HYEgegPTb9SJN</td>\n",
       "      <td>239152298494257</td>\n",
       "      <td>1</td>\n",
       "      <td>44847</td>\n",
       "      <td>1907194</td>\n",
       "      <td>2021-11-30 14:53:38+01:00</td>\n",
       "    </tr>\n",
       "    <tr>\n",
       "      <th>2443</th>\n",
       "      <td>3103</td>\n",
       "      <td>3120</td>\n",
       "      <td>tz2KUseTZtus8cjZTuV6fu7HYEgegPTb9SJN</td>\n",
       "      <td>190551754522584</td>\n",
       "      <td>1</td>\n",
       "      <td>44847</td>\n",
       "      <td>1907196</td>\n",
       "      <td>2021-11-30 14:54:38+01:00</td>\n",
       "    </tr>\n",
       "    <tr>\n",
       "      <th>1628</th>\n",
       "      <td>3019</td>\n",
       "      <td>3072</td>\n",
       "      <td>tz2FvD9kwbtyhsoHShbawy5ptFaJSZmfAzo3</td>\n",
       "      <td>84236142601520</td>\n",
       "      <td>1</td>\n",
       "      <td>44847</td>\n",
       "      <td>1907198</td>\n",
       "      <td>2021-11-30 14:55:38+01:00</td>\n",
       "    </tr>\n",
       "    <tr>\n",
       "      <th>3539</th>\n",
       "      <td>3017</td>\n",
       "      <td>3054</td>\n",
       "      <td>tz2Sa6btee3smfYy5TbMtQQfZPU69BrzDq4M</td>\n",
       "      <td>259050818936049</td>\n",
       "      <td>1</td>\n",
       "      <td>44847</td>\n",
       "      <td>1907198</td>\n",
       "      <td>2021-11-30 14:55:38+01:00</td>\n",
       "    </tr>\n",
       "    <tr>\n",
       "      <th>2445</th>\n",
       "      <td>3015</td>\n",
       "      <td>3036</td>\n",
       "      <td>tz2KUseTZtus8cjZTuV6fu7HYEgegPTb9SJN</td>\n",
       "      <td>239993519131547</td>\n",
       "      <td>1</td>\n",
       "      <td>44847</td>\n",
       "      <td>1907198</td>\n",
       "      <td>2021-11-30 14:55:38+01:00</td>\n",
       "    </tr>\n",
       "  </tbody>\n",
       "</table>\n",
       "</div>"
      ],
      "text/plain": [
       "      tx_context_id    id                    idx_assets_address  \\\n",
       "2444           3127  3144  tz2KUseTZtus8cjZTuV6fu7HYEgegPTb9SJN   \n",
       "2443           3103  3120  tz2KUseTZtus8cjZTuV6fu7HYEgegPTb9SJN   \n",
       "1628           3019  3072  tz2FvD9kwbtyhsoHShbawy5ptFaJSZmfAzo3   \n",
       "3539           3017  3054  tz2Sa6btee3smfYy5TbMtQQfZPU69BrzDq4M   \n",
       "2445           3015  3036  tz2KUseTZtus8cjZTuV6fu7HYEgegPTb9SJN   \n",
       "\n",
       "       idx_assets_nat  assets_nat  bigmap_id    level  \\\n",
       "2444  239152298494257           1      44847  1907194   \n",
       "2443  190551754522584           1      44847  1907196   \n",
       "1628   84236142601520           1      44847  1907198   \n",
       "3539  259050818936049           1      44847  1907198   \n",
       "2445  239993519131547           1      44847  1907198   \n",
       "\n",
       "               level_timestamp  \n",
       "2444 2021-11-30 14:53:38+01:00  \n",
       "2443 2021-11-30 14:54:38+01:00  \n",
       "1628 2021-11-30 14:55:38+01:00  \n",
       "3539 2021-11-30 14:55:38+01:00  \n",
       "2445 2021-11-30 14:55:38+01:00  "
      ]
     },
     "execution_count": 35,
     "metadata": {},
     "output_type": "execute_result"
    }
   ],
   "source": [
    "df.sort_values(['level_timestamp']).head(5)"
   ]
  },
  {
   "cell_type": "code",
   "execution_count": 5,
   "id": "0e9a1a87",
   "metadata": {},
   "outputs": [],
   "source": [
    "df_no_duplicates = df.drop_duplicates(subset='idx_assets_address')"
   ]
  },
  {
   "cell_type": "code",
   "execution_count": 6,
   "id": "8470b8fc",
   "metadata": {},
   "outputs": [
    {
     "name": "stdout",
     "output_type": "stream",
     "text": [
      "(4646, 8)\n",
      "(2685, 8)\n"
     ]
    }
   ],
   "source": [
    "print(df.shape)\n",
    "print(df_no_duplicates.shape)"
   ]
  },
  {
   "cell_type": "code",
   "execution_count": 7,
   "id": "6bad8002",
   "metadata": {},
   "outputs": [
    {
     "data": {
      "text/html": [
       "<div>\n",
       "<style scoped>\n",
       "    .dataframe tbody tr th:only-of-type {\n",
       "        vertical-align: middle;\n",
       "    }\n",
       "\n",
       "    .dataframe tbody tr th {\n",
       "        vertical-align: top;\n",
       "    }\n",
       "\n",
       "    .dataframe thead th {\n",
       "        text-align: right;\n",
       "    }\n",
       "</style>\n",
       "<table border=\"1\" class=\"dataframe\">\n",
       "  <thead>\n",
       "    <tr style=\"text-align: right;\">\n",
       "      <th></th>\n",
       "      <th>tx_context_id</th>\n",
       "      <th>id</th>\n",
       "      <th>idx_assets_address</th>\n",
       "      <th>idx_assets_nat</th>\n",
       "      <th>assets_nat</th>\n",
       "      <th>bigmap_id</th>\n",
       "      <th>level</th>\n",
       "      <th>level_timestamp</th>\n",
       "    </tr>\n",
       "  </thead>\n",
       "  <tbody>\n",
       "    <tr>\n",
       "      <th>0</th>\n",
       "      <td>113507</td>\n",
       "      <td>113522</td>\n",
       "      <td>KT1FvqJwEDWb1Gwc55Jd1jjTHRVWbYKUUpyq</td>\n",
       "      <td>20313230816193</td>\n",
       "      <td>1</td>\n",
       "      <td>44847</td>\n",
       "      <td>1929237</td>\n",
       "      <td>2021-12-09 00:12:10+01</td>\n",
       "    </tr>\n",
       "    <tr>\n",
       "      <th>13</th>\n",
       "      <td>50808</td>\n",
       "      <td>50817</td>\n",
       "      <td>tz1a2ZeWmyNQ8BiuFNTE4vmFEP9MBaP76QPX</td>\n",
       "      <td>105121986262151</td>\n",
       "      <td>1</td>\n",
       "      <td>44847</td>\n",
       "      <td>1913594</td>\n",
       "      <td>2021-12-02 22:10:54+01</td>\n",
       "    </tr>\n",
       "    <tr>\n",
       "      <th>16</th>\n",
       "      <td>113642</td>\n",
       "      <td>113650</td>\n",
       "      <td>tz1aCzsYRUgDZBV7zb7Si6q2AobrocFW5qwb</td>\n",
       "      <td>55289408087137</td>\n",
       "      <td>1</td>\n",
       "      <td>44847</td>\n",
       "      <td>1932446</td>\n",
       "      <td>2021-12-10 04:45:10+01</td>\n",
       "    </tr>\n",
       "    <tr>\n",
       "      <th>17</th>\n",
       "      <td>45259</td>\n",
       "      <td>45330</td>\n",
       "      <td>tz1aFuBaXXWjHK5n3GAqa4SL2btTnuZcnxkf</td>\n",
       "      <td>3748653744502</td>\n",
       "      <td>1</td>\n",
       "      <td>44847</td>\n",
       "      <td>1913412</td>\n",
       "      <td>2021-12-02 20:38:44+01</td>\n",
       "    </tr>\n",
       "    <tr>\n",
       "      <th>20</th>\n",
       "      <td>3804</td>\n",
       "      <td>3915</td>\n",
       "      <td>tz1arY7HNDq17nrZJ7f3sikxuHZgeopsU9xq</td>\n",
       "      <td>205592739575755</td>\n",
       "      <td>1</td>\n",
       "      <td>44847</td>\n",
       "      <td>1907480</td>\n",
       "      <td>2021-11-30 17:26:38+01</td>\n",
       "    </tr>\n",
       "  </tbody>\n",
       "</table>\n",
       "</div>"
      ],
      "text/plain": [
       "    tx_context_id      id                    idx_assets_address  \\\n",
       "0          113507  113522  KT1FvqJwEDWb1Gwc55Jd1jjTHRVWbYKUUpyq   \n",
       "13          50808   50817  tz1a2ZeWmyNQ8BiuFNTE4vmFEP9MBaP76QPX   \n",
       "16         113642  113650  tz1aCzsYRUgDZBV7zb7Si6q2AobrocFW5qwb   \n",
       "17          45259   45330  tz1aFuBaXXWjHK5n3GAqa4SL2btTnuZcnxkf   \n",
       "20           3804    3915  tz1arY7HNDq17nrZJ7f3sikxuHZgeopsU9xq   \n",
       "\n",
       "     idx_assets_nat  assets_nat  bigmap_id    level         level_timestamp  \n",
       "0    20313230816193           1      44847  1929237  2021-12-09 00:12:10+01  \n",
       "13  105121986262151           1      44847  1913594  2021-12-02 22:10:54+01  \n",
       "16   55289408087137           1      44847  1932446  2021-12-10 04:45:10+01  \n",
       "17    3748653744502           1      44847  1913412  2021-12-02 20:38:44+01  \n",
       "20  205592739575755           1      44847  1907480  2021-11-30 17:26:38+01  "
      ]
     },
     "execution_count": 7,
     "metadata": {},
     "output_type": "execute_result"
    }
   ],
   "source": [
    "df_no_duplicates.head()"
   ]
  },
  {
   "cell_type": "code",
   "execution_count": 8,
   "id": "6f2ab063",
   "metadata": {},
   "outputs": [
    {
     "data": {
      "text/html": [
       "<div>\n",
       "<style scoped>\n",
       "    .dataframe tbody tr th:only-of-type {\n",
       "        vertical-align: middle;\n",
       "    }\n",
       "\n",
       "    .dataframe tbody tr th {\n",
       "        vertical-align: top;\n",
       "    }\n",
       "\n",
       "    .dataframe thead th {\n",
       "        text-align: right;\n",
       "    }\n",
       "</style>\n",
       "<table border=\"1\" class=\"dataframe\">\n",
       "  <thead>\n",
       "    <tr style=\"text-align: right;\">\n",
       "      <th></th>\n",
       "      <th>tx_context_id</th>\n",
       "      <th>id</th>\n",
       "      <th>idx_assets_address</th>\n",
       "      <th>idx_assets_nat</th>\n",
       "      <th>assets_nat</th>\n",
       "      <th>bigmap_id</th>\n",
       "      <th>level</th>\n",
       "      <th>level_timestamp</th>\n",
       "    </tr>\n",
       "  </thead>\n",
       "  <tbody>\n",
       "    <tr>\n",
       "      <th>2441</th>\n",
       "      <td>2887</td>\n",
       "      <td>2904</td>\n",
       "      <td>tz2KUseTZtus8cjZTuV6fu7HYEgegPTb9SJN</td>\n",
       "      <td>7125005331388</td>\n",
       "      <td>1</td>\n",
       "      <td>44847</td>\n",
       "      <td>1907199</td>\n",
       "      <td>2021-11-30 14:56:08+01</td>\n",
       "    </tr>\n",
       "    <tr>\n",
       "      <th>3522</th>\n",
       "      <td>2845</td>\n",
       "      <td>2880</td>\n",
       "      <td>tz2Sa6btee3smfYy5TbMtQQfZPU69BrzDq4M</td>\n",
       "      <td>20293158508664</td>\n",
       "      <td>1</td>\n",
       "      <td>44847</td>\n",
       "      <td>1907203</td>\n",
       "      <td>2021-11-30 14:58:08+01</td>\n",
       "    </tr>\n",
       "    <tr>\n",
       "      <th>4057</th>\n",
       "      <td>2267</td>\n",
       "      <td>2286</td>\n",
       "      <td>tz2V65zWQndYMdsnXA1YzGnTsz9G47Vxy9B8</td>\n",
       "      <td>187588005035666</td>\n",
       "      <td>1</td>\n",
       "      <td>44847</td>\n",
       "      <td>1907226</td>\n",
       "      <td>2021-11-30 15:09:38+01</td>\n",
       "    </tr>\n",
       "    <tr>\n",
       "      <th>209</th>\n",
       "      <td>2027</td>\n",
       "      <td>2058</td>\n",
       "      <td>tz1WWcuiKUN4Ed5zouETqr7MbVzd3vkC4ubr</td>\n",
       "      <td>156757186422348</td>\n",
       "      <td>1</td>\n",
       "      <td>44847</td>\n",
       "      <td>1907233</td>\n",
       "      <td>2021-11-30 15:16:08+01</td>\n",
       "    </tr>\n",
       "    <tr>\n",
       "      <th>1436</th>\n",
       "      <td>3161</td>\n",
       "      <td>3196</td>\n",
       "      <td>tz2EXiTeJs2pjHQkCkq6U3LCW2RMxJURk9gj</td>\n",
       "      <td>7013485372027</td>\n",
       "      <td>1</td>\n",
       "      <td>44847</td>\n",
       "      <td>1907279</td>\n",
       "      <td>2021-11-30 15:39:08+01</td>\n",
       "    </tr>\n",
       "  </tbody>\n",
       "</table>\n",
       "</div>"
      ],
      "text/plain": [
       "      tx_context_id    id                    idx_assets_address  \\\n",
       "2441           2887  2904  tz2KUseTZtus8cjZTuV6fu7HYEgegPTb9SJN   \n",
       "3522           2845  2880  tz2Sa6btee3smfYy5TbMtQQfZPU69BrzDq4M   \n",
       "4057           2267  2286  tz2V65zWQndYMdsnXA1YzGnTsz9G47Vxy9B8   \n",
       "209            2027  2058  tz1WWcuiKUN4Ed5zouETqr7MbVzd3vkC4ubr   \n",
       "1436           3161  3196  tz2EXiTeJs2pjHQkCkq6U3LCW2RMxJURk9gj   \n",
       "\n",
       "       idx_assets_nat  assets_nat  bigmap_id    level         level_timestamp  \n",
       "2441    7125005331388           1      44847  1907199  2021-11-30 14:56:08+01  \n",
       "3522   20293158508664           1      44847  1907203  2021-11-30 14:58:08+01  \n",
       "4057  187588005035666           1      44847  1907226  2021-11-30 15:09:38+01  \n",
       "209   156757186422348           1      44847  1907233  2021-11-30 15:16:08+01  \n",
       "1436    7013485372027           1      44847  1907279  2021-11-30 15:39:08+01  "
      ]
     },
     "execution_count": 8,
     "metadata": {},
     "output_type": "execute_result"
    }
   ],
   "source": [
    "df_no_duplicates.sort_values(by=['level'], ascending=True).head()"
   ]
  },
  {
   "cell_type": "code",
   "execution_count": 9,
   "id": "14a9cf1d",
   "metadata": {},
   "outputs": [
    {
     "data": {
      "text/plain": [
       "tx_context_id          int64\n",
       "id                     int64\n",
       "idx_assets_address    object\n",
       "idx_assets_nat         int64\n",
       "assets_nat             int64\n",
       "bigmap_id              int64\n",
       "level                  int64\n",
       "level_timestamp       object\n",
       "dtype: object"
      ]
     },
     "execution_count": 9,
     "metadata": {},
     "output_type": "execute_result"
    }
   ],
   "source": [
    "df_no_duplicates.dtypes"
   ]
  },
  {
   "cell_type": "code",
   "execution_count": 10,
   "id": "40028888",
   "metadata": {},
   "outputs": [],
   "source": [
    "list_idx_assets_address = df_no_duplicates['idx_assets_address'].to_list()"
   ]
  },
  {
   "cell_type": "code",
   "execution_count": 12,
   "id": "962d9575",
   "metadata": {},
   "outputs": [
    {
     "data": {
      "text/plain": [
       "['tz1aFuBaXXWjHK5n3GAqa4SL2btTnuZcnxkf',\n",
       " 'tz1arY7HNDq17nrZJ7f3sikxuHZgeopsU9xq',\n",
       " 'tz1aUMEc45yXuCKEnMa3v4sdSsacivYHZVLP']"
      ]
     },
     "execution_count": 12,
     "metadata": {},
     "output_type": "execute_result"
    }
   ],
   "source": [
    "list_idx_assets_address[3:6]"
   ]
  },
  {
   "cell_type": "code",
   "execution_count": 13,
   "id": "207148a3",
   "metadata": {},
   "outputs": [
    {
     "data": {
      "text/plain": [
       "2685"
      ]
     },
     "execution_count": 13,
     "metadata": {},
     "output_type": "execute_result"
    }
   ],
   "source": [
    "len(list_idx_assets_address)"
   ]
  },
  {
   "cell_type": "code",
   "execution_count": 14,
   "id": "fa551f0f",
   "metadata": {},
   "outputs": [
    {
     "data": {
      "text/plain": [
       "['KT1FvqJwEDWb1Gwc55Jd1jjTHRVWbYKUUpyq',\n",
       " 'tz1a2ZeWmyNQ8BiuFNTE4vmFEP9MBaP76QPX',\n",
       " 'tz1aCzsYRUgDZBV7zb7Si6q2AobrocFW5qwb',\n",
       " 'tz1aFuBaXXWjHK5n3GAqa4SL2btTnuZcnxkf',\n",
       " 'tz1arY7HNDq17nrZJ7f3sikxuHZgeopsU9xq',\n",
       " 'tz1aUMEc45yXuCKEnMa3v4sdSsacivYHZVLP',\n",
       " 'tz1aWfPVaATZpBtR4kFBVvk1HEAGACA8D1xs',\n",
       " 'tz1cg2GWoDBKNSPEZCsCPcCXEYKbMHALDHGR',\n",
       " 'tz1cYjVYS5Eg4iEDWT6Pk24sndjG4f2ivrR5',\n",
       " 'tz1dfEdnVrijrkdmGE7bkwRpPjK2eKKjEZXt',\n",
       " 'tz1duJ7YyKQj6nsoK6pVPWqmzHvbjhibyefA',\n",
       " 'tz1dvHfCFsEt5QCNoVgKGqaK211C4ciNEVvK',\n",
       " 'tz1dyYkmuTgApeMWrG5VtfuYHDwV11LKhZw7',\n",
       " 'tz1eBSihYigs9oV9VFxjecbyuSMsX4WAf4T4',\n",
       " 'tz1fdv4qjH467zGFJycBA1wX7kXgMdKSHfeq',\n",
       " 'tz1g9g12aQsub9gqJ19M512WFcNeP8sdbdr2',\n",
       " 'tz1gjmXcUvmAgDtasiexgfGZsKFYyQwHpzWg',\n",
       " 'tz1hb9PiWxQEf6J9xevPsUM6dkuCLnhDMvsp',\n",
       " 'tz1hyNv7RBzNPGLpKfdwHRc6NhLW6VbzXP3N',\n",
       " 'tz1i7tKfmok8uX9VhaZZSoxbMGVYgXcPSb6U']"
      ]
     },
     "execution_count": 14,
     "metadata": {},
     "output_type": "execute_result"
    }
   ],
   "source": [
    "list_idx_assets_address[:20]"
   ]
  },
  {
   "cell_type": "code",
   "execution_count": 15,
   "id": "b36d50da",
   "metadata": {},
   "outputs": [],
   "source": [
    "tl = ['tz2KUseTZtus8cjZTuV6fu7HYEgegPTb9SJN', 'tz2Sa6btee3smfYy5TbMtQQfZPU69BrzDq4M', 'tz2V65zWQndYMdsnXA1YzGnTsz9G47Vxy9B8']"
   ]
  },
  {
   "cell_type": "code",
   "execution_count": 17,
   "id": "84b13cdf",
   "metadata": {},
   "outputs": [
    {
     "ename": "ConnectionError",
     "evalue": "HTTPSConnectionPool(host='api.tzkt.io', port=443): Max retries exceeded with url: /v1/accounts/tz2K35aXwvFP33zVUtxTH9hrKsyBM4HfKs6h (Caused by NewConnectionError('<urllib3.connection.HTTPSConnection object at 0x7f89081a31c0>: Failed to establish a new connection: [Errno 60] Operation timed out'))",
     "output_type": "error",
     "traceback": [
      "\u001b[0;31m---------------------------------------------------------------------------\u001b[0m",
      "\u001b[0;31mTimeoutError\u001b[0m                              Traceback (most recent call last)",
      "\u001b[0;32m~/opt/anaconda3/lib/python3.8/site-packages/urllib3/connection.py\u001b[0m in \u001b[0;36m_new_conn\u001b[0;34m(self)\u001b[0m\n\u001b[1;32m    168\u001b[0m         \u001b[0;32mtry\u001b[0m\u001b[0;34m:\u001b[0m\u001b[0;34m\u001b[0m\u001b[0;34m\u001b[0m\u001b[0m\n\u001b[0;32m--> 169\u001b[0;31m             conn = connection.create_connection(\n\u001b[0m\u001b[1;32m    170\u001b[0m                 \u001b[0;34m(\u001b[0m\u001b[0mself\u001b[0m\u001b[0;34m.\u001b[0m\u001b[0m_dns_host\u001b[0m\u001b[0;34m,\u001b[0m \u001b[0mself\u001b[0m\u001b[0;34m.\u001b[0m\u001b[0mport\u001b[0m\u001b[0;34m)\u001b[0m\u001b[0;34m,\u001b[0m \u001b[0mself\u001b[0m\u001b[0;34m.\u001b[0m\u001b[0mtimeout\u001b[0m\u001b[0;34m,\u001b[0m \u001b[0;34m**\u001b[0m\u001b[0mextra_kw\u001b[0m\u001b[0;34m\u001b[0m\u001b[0;34m\u001b[0m\u001b[0m\n",
      "\u001b[0;32m~/opt/anaconda3/lib/python3.8/site-packages/urllib3/util/connection.py\u001b[0m in \u001b[0;36mcreate_connection\u001b[0;34m(address, timeout, source_address, socket_options)\u001b[0m\n\u001b[1;32m     95\u001b[0m     \u001b[0;32mif\u001b[0m \u001b[0merr\u001b[0m \u001b[0;32mis\u001b[0m \u001b[0;32mnot\u001b[0m \u001b[0;32mNone\u001b[0m\u001b[0;34m:\u001b[0m\u001b[0;34m\u001b[0m\u001b[0;34m\u001b[0m\u001b[0m\n\u001b[0;32m---> 96\u001b[0;31m         \u001b[0;32mraise\u001b[0m \u001b[0merr\u001b[0m\u001b[0;34m\u001b[0m\u001b[0;34m\u001b[0m\u001b[0m\n\u001b[0m\u001b[1;32m     97\u001b[0m \u001b[0;34m\u001b[0m\u001b[0m\n",
      "\u001b[0;32m~/opt/anaconda3/lib/python3.8/site-packages/urllib3/util/connection.py\u001b[0m in \u001b[0;36mcreate_connection\u001b[0;34m(address, timeout, source_address, socket_options)\u001b[0m\n\u001b[1;32m     85\u001b[0m                 \u001b[0msock\u001b[0m\u001b[0;34m.\u001b[0m\u001b[0mbind\u001b[0m\u001b[0;34m(\u001b[0m\u001b[0msource_address\u001b[0m\u001b[0;34m)\u001b[0m\u001b[0;34m\u001b[0m\u001b[0;34m\u001b[0m\u001b[0m\n\u001b[0;32m---> 86\u001b[0;31m             \u001b[0msock\u001b[0m\u001b[0;34m.\u001b[0m\u001b[0mconnect\u001b[0m\u001b[0;34m(\u001b[0m\u001b[0msa\u001b[0m\u001b[0;34m)\u001b[0m\u001b[0;34m\u001b[0m\u001b[0;34m\u001b[0m\u001b[0m\n\u001b[0m\u001b[1;32m     87\u001b[0m             \u001b[0;32mreturn\u001b[0m \u001b[0msock\u001b[0m\u001b[0;34m\u001b[0m\u001b[0;34m\u001b[0m\u001b[0m\n",
      "\u001b[0;31mTimeoutError\u001b[0m: [Errno 60] Operation timed out",
      "\nDuring handling of the above exception, another exception occurred:\n",
      "\u001b[0;31mNewConnectionError\u001b[0m                        Traceback (most recent call last)",
      "\u001b[0;32m~/opt/anaconda3/lib/python3.8/site-packages/urllib3/connectionpool.py\u001b[0m in \u001b[0;36murlopen\u001b[0;34m(self, method, url, body, headers, retries, redirect, assert_same_host, timeout, pool_timeout, release_conn, chunked, body_pos, **response_kw)\u001b[0m\n\u001b[1;32m    698\u001b[0m             \u001b[0;31m# Make the request on the httplib connection object.\u001b[0m\u001b[0;34m\u001b[0m\u001b[0;34m\u001b[0m\u001b[0;34m\u001b[0m\u001b[0m\n\u001b[0;32m--> 699\u001b[0;31m             httplib_response = self._make_request(\n\u001b[0m\u001b[1;32m    700\u001b[0m                 \u001b[0mconn\u001b[0m\u001b[0;34m,\u001b[0m\u001b[0;34m\u001b[0m\u001b[0;34m\u001b[0m\u001b[0m\n",
      "\u001b[0;32m~/opt/anaconda3/lib/python3.8/site-packages/urllib3/connectionpool.py\u001b[0m in \u001b[0;36m_make_request\u001b[0;34m(self, conn, method, url, timeout, chunked, **httplib_request_kw)\u001b[0m\n\u001b[1;32m    381\u001b[0m         \u001b[0;32mtry\u001b[0m\u001b[0;34m:\u001b[0m\u001b[0;34m\u001b[0m\u001b[0;34m\u001b[0m\u001b[0m\n\u001b[0;32m--> 382\u001b[0;31m             \u001b[0mself\u001b[0m\u001b[0;34m.\u001b[0m\u001b[0m_validate_conn\u001b[0m\u001b[0;34m(\u001b[0m\u001b[0mconn\u001b[0m\u001b[0;34m)\u001b[0m\u001b[0;34m\u001b[0m\u001b[0;34m\u001b[0m\u001b[0m\n\u001b[0m\u001b[1;32m    383\u001b[0m         \u001b[0;32mexcept\u001b[0m \u001b[0;34m(\u001b[0m\u001b[0mSocketTimeout\u001b[0m\u001b[0;34m,\u001b[0m \u001b[0mBaseSSLError\u001b[0m\u001b[0;34m)\u001b[0m \u001b[0;32mas\u001b[0m \u001b[0me\u001b[0m\u001b[0;34m:\u001b[0m\u001b[0;34m\u001b[0m\u001b[0;34m\u001b[0m\u001b[0m\n",
      "\u001b[0;32m~/opt/anaconda3/lib/python3.8/site-packages/urllib3/connectionpool.py\u001b[0m in \u001b[0;36m_validate_conn\u001b[0;34m(self, conn)\u001b[0m\n\u001b[1;32m   1009\u001b[0m         \u001b[0;32mif\u001b[0m \u001b[0;32mnot\u001b[0m \u001b[0mgetattr\u001b[0m\u001b[0;34m(\u001b[0m\u001b[0mconn\u001b[0m\u001b[0;34m,\u001b[0m \u001b[0;34m\"sock\"\u001b[0m\u001b[0;34m,\u001b[0m \u001b[0;32mNone\u001b[0m\u001b[0;34m)\u001b[0m\u001b[0;34m:\u001b[0m  \u001b[0;31m# AppEngine might not have  `.sock`\u001b[0m\u001b[0;34m\u001b[0m\u001b[0;34m\u001b[0m\u001b[0m\n\u001b[0;32m-> 1010\u001b[0;31m             \u001b[0mconn\u001b[0m\u001b[0;34m.\u001b[0m\u001b[0mconnect\u001b[0m\u001b[0;34m(\u001b[0m\u001b[0;34m)\u001b[0m\u001b[0;34m\u001b[0m\u001b[0;34m\u001b[0m\u001b[0m\n\u001b[0m\u001b[1;32m   1011\u001b[0m \u001b[0;34m\u001b[0m\u001b[0m\n",
      "\u001b[0;32m~/opt/anaconda3/lib/python3.8/site-packages/urllib3/connection.py\u001b[0m in \u001b[0;36mconnect\u001b[0;34m(self)\u001b[0m\n\u001b[1;32m    352\u001b[0m         \u001b[0;31m# Add certificate verification\u001b[0m\u001b[0;34m\u001b[0m\u001b[0;34m\u001b[0m\u001b[0;34m\u001b[0m\u001b[0m\n\u001b[0;32m--> 353\u001b[0;31m         \u001b[0mconn\u001b[0m \u001b[0;34m=\u001b[0m \u001b[0mself\u001b[0m\u001b[0;34m.\u001b[0m\u001b[0m_new_conn\u001b[0m\u001b[0;34m(\u001b[0m\u001b[0;34m)\u001b[0m\u001b[0;34m\u001b[0m\u001b[0;34m\u001b[0m\u001b[0m\n\u001b[0m\u001b[1;32m    354\u001b[0m         \u001b[0mhostname\u001b[0m \u001b[0;34m=\u001b[0m \u001b[0mself\u001b[0m\u001b[0;34m.\u001b[0m\u001b[0mhost\u001b[0m\u001b[0;34m\u001b[0m\u001b[0;34m\u001b[0m\u001b[0m\n",
      "\u001b[0;32m~/opt/anaconda3/lib/python3.8/site-packages/urllib3/connection.py\u001b[0m in \u001b[0;36m_new_conn\u001b[0;34m(self)\u001b[0m\n\u001b[1;32m    180\u001b[0m         \u001b[0;32mexcept\u001b[0m \u001b[0mSocketError\u001b[0m \u001b[0;32mas\u001b[0m \u001b[0me\u001b[0m\u001b[0;34m:\u001b[0m\u001b[0;34m\u001b[0m\u001b[0;34m\u001b[0m\u001b[0m\n\u001b[0;32m--> 181\u001b[0;31m             raise NewConnectionError(\n\u001b[0m\u001b[1;32m    182\u001b[0m                 \u001b[0mself\u001b[0m\u001b[0;34m,\u001b[0m \u001b[0;34m\"Failed to establish a new connection: %s\"\u001b[0m \u001b[0;34m%\u001b[0m \u001b[0me\u001b[0m\u001b[0;34m\u001b[0m\u001b[0;34m\u001b[0m\u001b[0m\n",
      "\u001b[0;31mNewConnectionError\u001b[0m: <urllib3.connection.HTTPSConnection object at 0x7f89081a31c0>: Failed to establish a new connection: [Errno 60] Operation timed out",
      "\nDuring handling of the above exception, another exception occurred:\n",
      "\u001b[0;31mMaxRetryError\u001b[0m                             Traceback (most recent call last)",
      "\u001b[0;32m~/opt/anaconda3/lib/python3.8/site-packages/requests/adapters.py\u001b[0m in \u001b[0;36msend\u001b[0;34m(self, request, stream, timeout, verify, cert, proxies)\u001b[0m\n\u001b[1;32m    438\u001b[0m             \u001b[0;32mif\u001b[0m \u001b[0;32mnot\u001b[0m \u001b[0mchunked\u001b[0m\u001b[0;34m:\u001b[0m\u001b[0;34m\u001b[0m\u001b[0;34m\u001b[0m\u001b[0m\n\u001b[0;32m--> 439\u001b[0;31m                 resp = conn.urlopen(\n\u001b[0m\u001b[1;32m    440\u001b[0m                     \u001b[0mmethod\u001b[0m\u001b[0;34m=\u001b[0m\u001b[0mrequest\u001b[0m\u001b[0;34m.\u001b[0m\u001b[0mmethod\u001b[0m\u001b[0;34m,\u001b[0m\u001b[0;34m\u001b[0m\u001b[0;34m\u001b[0m\u001b[0m\n",
      "\u001b[0;32m~/opt/anaconda3/lib/python3.8/site-packages/urllib3/connectionpool.py\u001b[0m in \u001b[0;36murlopen\u001b[0;34m(self, method, url, body, headers, retries, redirect, assert_same_host, timeout, pool_timeout, release_conn, chunked, body_pos, **response_kw)\u001b[0m\n\u001b[1;32m    754\u001b[0m \u001b[0;34m\u001b[0m\u001b[0m\n\u001b[0;32m--> 755\u001b[0;31m             retries = retries.increment(\n\u001b[0m\u001b[1;32m    756\u001b[0m                 \u001b[0mmethod\u001b[0m\u001b[0;34m,\u001b[0m \u001b[0murl\u001b[0m\u001b[0;34m,\u001b[0m \u001b[0merror\u001b[0m\u001b[0;34m=\u001b[0m\u001b[0me\u001b[0m\u001b[0;34m,\u001b[0m \u001b[0m_pool\u001b[0m\u001b[0;34m=\u001b[0m\u001b[0mself\u001b[0m\u001b[0;34m,\u001b[0m \u001b[0m_stacktrace\u001b[0m\u001b[0;34m=\u001b[0m\u001b[0msys\u001b[0m\u001b[0;34m.\u001b[0m\u001b[0mexc_info\u001b[0m\u001b[0;34m(\u001b[0m\u001b[0;34m)\u001b[0m\u001b[0;34m[\u001b[0m\u001b[0;36m2\u001b[0m\u001b[0;34m]\u001b[0m\u001b[0;34m\u001b[0m\u001b[0;34m\u001b[0m\u001b[0m\n",
      "\u001b[0;32m~/opt/anaconda3/lib/python3.8/site-packages/urllib3/util/retry.py\u001b[0m in \u001b[0;36mincrement\u001b[0;34m(self, method, url, response, error, _pool, _stacktrace)\u001b[0m\n\u001b[1;32m    573\u001b[0m         \u001b[0;32mif\u001b[0m \u001b[0mnew_retry\u001b[0m\u001b[0;34m.\u001b[0m\u001b[0mis_exhausted\u001b[0m\u001b[0;34m(\u001b[0m\u001b[0;34m)\u001b[0m\u001b[0;34m:\u001b[0m\u001b[0;34m\u001b[0m\u001b[0;34m\u001b[0m\u001b[0m\n\u001b[0;32m--> 574\u001b[0;31m             \u001b[0;32mraise\u001b[0m \u001b[0mMaxRetryError\u001b[0m\u001b[0;34m(\u001b[0m\u001b[0m_pool\u001b[0m\u001b[0;34m,\u001b[0m \u001b[0murl\u001b[0m\u001b[0;34m,\u001b[0m \u001b[0merror\u001b[0m \u001b[0;32mor\u001b[0m \u001b[0mResponseError\u001b[0m\u001b[0;34m(\u001b[0m\u001b[0mcause\u001b[0m\u001b[0;34m)\u001b[0m\u001b[0;34m)\u001b[0m\u001b[0;34m\u001b[0m\u001b[0;34m\u001b[0m\u001b[0m\n\u001b[0m\u001b[1;32m    575\u001b[0m \u001b[0;34m\u001b[0m\u001b[0m\n",
      "\u001b[0;31mMaxRetryError\u001b[0m: HTTPSConnectionPool(host='api.tzkt.io', port=443): Max retries exceeded with url: /v1/accounts/tz2K35aXwvFP33zVUtxTH9hrKsyBM4HfKs6h (Caused by NewConnectionError('<urllib3.connection.HTTPSConnection object at 0x7f89081a31c0>: Failed to establish a new connection: [Errno 60] Operation timed out'))",
      "\nDuring handling of the above exception, another exception occurred:\n",
      "\u001b[0;31mConnectionError\u001b[0m                           Traceback (most recent call last)",
      "\u001b[0;32m<ipython-input-17-9f387764c3af>\u001b[0m in \u001b[0;36m<module>\u001b[0;34m\u001b[0m\n\u001b[1;32m      7\u001b[0m \u001b[0mn\u001b[0m \u001b[0;34m=\u001b[0m \u001b[0;36m0\u001b[0m\u001b[0;34m\u001b[0m\u001b[0;34m\u001b[0m\u001b[0m\n\u001b[1;32m      8\u001b[0m \u001b[0;32mfor\u001b[0m \u001b[0mtz_address\u001b[0m \u001b[0;32min\u001b[0m \u001b[0mlist_idx_assets_address\u001b[0m\u001b[0;34m:\u001b[0m\u001b[0;34m\u001b[0m\u001b[0;34m\u001b[0m\u001b[0m\n\u001b[0;32m----> 9\u001b[0;31m     \u001b[0muser_data\u001b[0m \u001b[0;34m=\u001b[0m \u001b[0mrequests\u001b[0m\u001b[0;34m.\u001b[0m\u001b[0mget\u001b[0m\u001b[0;34m(\u001b[0m\u001b[0;34mf\"https://api.tzkt.io/v1/accounts/{tz_address}\"\u001b[0m\u001b[0;34m)\u001b[0m\u001b[0;34m.\u001b[0m\u001b[0mjson\u001b[0m\u001b[0;34m(\u001b[0m\u001b[0;34m)\u001b[0m\u001b[0;34m\u001b[0m\u001b[0;34m\u001b[0m\u001b[0m\n\u001b[0m\u001b[1;32m     10\u001b[0m     \u001b[0;32mif\u001b[0m \u001b[0;34m(\u001b[0m\u001b[0;34m'type'\u001b[0m \u001b[0;32min\u001b[0m \u001b[0muser_data\u001b[0m\u001b[0;34m.\u001b[0m\u001b[0mkeys\u001b[0m\u001b[0;34m(\u001b[0m\u001b[0;34m)\u001b[0m \u001b[0;32mand\u001b[0m \u001b[0muser_data\u001b[0m\u001b[0;34m[\u001b[0m\u001b[0;34m'type'\u001b[0m\u001b[0;34m]\u001b[0m\u001b[0;34m==\u001b[0m\u001b[0;34m'user'\u001b[0m\u001b[0;34m)\u001b[0m\u001b[0;34m:\u001b[0m\u001b[0;34m\u001b[0m\u001b[0;34m\u001b[0m\u001b[0m\n\u001b[1;32m     11\u001b[0m         \u001b[0maddress\u001b[0m\u001b[0;34m.\u001b[0m\u001b[0mappend\u001b[0m\u001b[0;34m(\u001b[0m\u001b[0muser_data\u001b[0m\u001b[0;34m[\u001b[0m\u001b[0;34m'address'\u001b[0m\u001b[0;34m]\u001b[0m\u001b[0;34m)\u001b[0m\u001b[0;34m\u001b[0m\u001b[0;34m\u001b[0m\u001b[0m\n",
      "\u001b[0;32m~/opt/anaconda3/lib/python3.8/site-packages/requests/api.py\u001b[0m in \u001b[0;36mget\u001b[0;34m(url, params, **kwargs)\u001b[0m\n\u001b[1;32m     74\u001b[0m \u001b[0;34m\u001b[0m\u001b[0m\n\u001b[1;32m     75\u001b[0m     \u001b[0mkwargs\u001b[0m\u001b[0;34m.\u001b[0m\u001b[0msetdefault\u001b[0m\u001b[0;34m(\u001b[0m\u001b[0;34m'allow_redirects'\u001b[0m\u001b[0;34m,\u001b[0m \u001b[0;32mTrue\u001b[0m\u001b[0;34m)\u001b[0m\u001b[0;34m\u001b[0m\u001b[0;34m\u001b[0m\u001b[0m\n\u001b[0;32m---> 76\u001b[0;31m     \u001b[0;32mreturn\u001b[0m \u001b[0mrequest\u001b[0m\u001b[0;34m(\u001b[0m\u001b[0;34m'get'\u001b[0m\u001b[0;34m,\u001b[0m \u001b[0murl\u001b[0m\u001b[0;34m,\u001b[0m \u001b[0mparams\u001b[0m\u001b[0;34m=\u001b[0m\u001b[0mparams\u001b[0m\u001b[0;34m,\u001b[0m \u001b[0;34m**\u001b[0m\u001b[0mkwargs\u001b[0m\u001b[0;34m)\u001b[0m\u001b[0;34m\u001b[0m\u001b[0;34m\u001b[0m\u001b[0m\n\u001b[0m\u001b[1;32m     77\u001b[0m \u001b[0;34m\u001b[0m\u001b[0m\n\u001b[1;32m     78\u001b[0m \u001b[0;34m\u001b[0m\u001b[0m\n",
      "\u001b[0;32m~/opt/anaconda3/lib/python3.8/site-packages/requests/api.py\u001b[0m in \u001b[0;36mrequest\u001b[0;34m(method, url, **kwargs)\u001b[0m\n\u001b[1;32m     59\u001b[0m     \u001b[0;31m# cases, and look like a memory leak in others.\u001b[0m\u001b[0;34m\u001b[0m\u001b[0;34m\u001b[0m\u001b[0;34m\u001b[0m\u001b[0m\n\u001b[1;32m     60\u001b[0m     \u001b[0;32mwith\u001b[0m \u001b[0msessions\u001b[0m\u001b[0;34m.\u001b[0m\u001b[0mSession\u001b[0m\u001b[0;34m(\u001b[0m\u001b[0;34m)\u001b[0m \u001b[0;32mas\u001b[0m \u001b[0msession\u001b[0m\u001b[0;34m:\u001b[0m\u001b[0;34m\u001b[0m\u001b[0;34m\u001b[0m\u001b[0m\n\u001b[0;32m---> 61\u001b[0;31m         \u001b[0;32mreturn\u001b[0m \u001b[0msession\u001b[0m\u001b[0;34m.\u001b[0m\u001b[0mrequest\u001b[0m\u001b[0;34m(\u001b[0m\u001b[0mmethod\u001b[0m\u001b[0;34m=\u001b[0m\u001b[0mmethod\u001b[0m\u001b[0;34m,\u001b[0m \u001b[0murl\u001b[0m\u001b[0;34m=\u001b[0m\u001b[0murl\u001b[0m\u001b[0;34m,\u001b[0m \u001b[0;34m**\u001b[0m\u001b[0mkwargs\u001b[0m\u001b[0;34m)\u001b[0m\u001b[0;34m\u001b[0m\u001b[0;34m\u001b[0m\u001b[0m\n\u001b[0m\u001b[1;32m     62\u001b[0m \u001b[0;34m\u001b[0m\u001b[0m\n\u001b[1;32m     63\u001b[0m \u001b[0;34m\u001b[0m\u001b[0m\n",
      "\u001b[0;32m~/opt/anaconda3/lib/python3.8/site-packages/requests/sessions.py\u001b[0m in \u001b[0;36mrequest\u001b[0;34m(self, method, url, params, data, headers, cookies, files, auth, timeout, allow_redirects, proxies, hooks, stream, verify, cert, json)\u001b[0m\n\u001b[1;32m    540\u001b[0m         }\n\u001b[1;32m    541\u001b[0m         \u001b[0msend_kwargs\u001b[0m\u001b[0;34m.\u001b[0m\u001b[0mupdate\u001b[0m\u001b[0;34m(\u001b[0m\u001b[0msettings\u001b[0m\u001b[0;34m)\u001b[0m\u001b[0;34m\u001b[0m\u001b[0;34m\u001b[0m\u001b[0m\n\u001b[0;32m--> 542\u001b[0;31m         \u001b[0mresp\u001b[0m \u001b[0;34m=\u001b[0m \u001b[0mself\u001b[0m\u001b[0;34m.\u001b[0m\u001b[0msend\u001b[0m\u001b[0;34m(\u001b[0m\u001b[0mprep\u001b[0m\u001b[0;34m,\u001b[0m \u001b[0;34m**\u001b[0m\u001b[0msend_kwargs\u001b[0m\u001b[0;34m)\u001b[0m\u001b[0;34m\u001b[0m\u001b[0;34m\u001b[0m\u001b[0m\n\u001b[0m\u001b[1;32m    543\u001b[0m \u001b[0;34m\u001b[0m\u001b[0m\n\u001b[1;32m    544\u001b[0m         \u001b[0;32mreturn\u001b[0m \u001b[0mresp\u001b[0m\u001b[0;34m\u001b[0m\u001b[0;34m\u001b[0m\u001b[0m\n",
      "\u001b[0;32m~/opt/anaconda3/lib/python3.8/site-packages/requests/sessions.py\u001b[0m in \u001b[0;36msend\u001b[0;34m(self, request, **kwargs)\u001b[0m\n\u001b[1;32m    653\u001b[0m \u001b[0;34m\u001b[0m\u001b[0m\n\u001b[1;32m    654\u001b[0m         \u001b[0;31m# Send the request\u001b[0m\u001b[0;34m\u001b[0m\u001b[0;34m\u001b[0m\u001b[0;34m\u001b[0m\u001b[0m\n\u001b[0;32m--> 655\u001b[0;31m         \u001b[0mr\u001b[0m \u001b[0;34m=\u001b[0m \u001b[0madapter\u001b[0m\u001b[0;34m.\u001b[0m\u001b[0msend\u001b[0m\u001b[0;34m(\u001b[0m\u001b[0mrequest\u001b[0m\u001b[0;34m,\u001b[0m \u001b[0;34m**\u001b[0m\u001b[0mkwargs\u001b[0m\u001b[0;34m)\u001b[0m\u001b[0;34m\u001b[0m\u001b[0;34m\u001b[0m\u001b[0m\n\u001b[0m\u001b[1;32m    656\u001b[0m \u001b[0;34m\u001b[0m\u001b[0m\n\u001b[1;32m    657\u001b[0m         \u001b[0;31m# Total elapsed time of the request (approximately)\u001b[0m\u001b[0;34m\u001b[0m\u001b[0;34m\u001b[0m\u001b[0;34m\u001b[0m\u001b[0m\n",
      "\u001b[0;32m~/opt/anaconda3/lib/python3.8/site-packages/requests/adapters.py\u001b[0m in \u001b[0;36msend\u001b[0;34m(self, request, stream, timeout, verify, cert, proxies)\u001b[0m\n\u001b[1;32m    514\u001b[0m                 \u001b[0;32mraise\u001b[0m \u001b[0mSSLError\u001b[0m\u001b[0;34m(\u001b[0m\u001b[0me\u001b[0m\u001b[0;34m,\u001b[0m \u001b[0mrequest\u001b[0m\u001b[0;34m=\u001b[0m\u001b[0mrequest\u001b[0m\u001b[0;34m)\u001b[0m\u001b[0;34m\u001b[0m\u001b[0;34m\u001b[0m\u001b[0m\n\u001b[1;32m    515\u001b[0m \u001b[0;34m\u001b[0m\u001b[0m\n\u001b[0;32m--> 516\u001b[0;31m             \u001b[0;32mraise\u001b[0m \u001b[0mConnectionError\u001b[0m\u001b[0;34m(\u001b[0m\u001b[0me\u001b[0m\u001b[0;34m,\u001b[0m \u001b[0mrequest\u001b[0m\u001b[0;34m=\u001b[0m\u001b[0mrequest\u001b[0m\u001b[0;34m)\u001b[0m\u001b[0;34m\u001b[0m\u001b[0;34m\u001b[0m\u001b[0m\n\u001b[0m\u001b[1;32m    517\u001b[0m \u001b[0;34m\u001b[0m\u001b[0m\n\u001b[1;32m    518\u001b[0m         \u001b[0;32mexcept\u001b[0m \u001b[0mClosedPoolError\u001b[0m \u001b[0;32mas\u001b[0m \u001b[0me\u001b[0m\u001b[0;34m:\u001b[0m\u001b[0;34m\u001b[0m\u001b[0;34m\u001b[0m\u001b[0m\n",
      "\u001b[0;31mConnectionError\u001b[0m: HTTPSConnectionPool(host='api.tzkt.io', port=443): Max retries exceeded with url: /v1/accounts/tz2K35aXwvFP33zVUtxTH9hrKsyBM4HfKs6h (Caused by NewConnectionError('<urllib3.connection.HTTPSConnection object at 0x7f89081a31c0>: Failed to establish a new connection: [Errno 60] Operation timed out'))"
     ]
    }
   ],
   "source": [
    "address = []\n",
    "revealed = []\n",
    "balance = []\n",
    "numTransactions = []\n",
    "firstActivityTime = []\n",
    "lastActivityTime = []\n",
    "n = 0\n",
    "for tz_address in list_idx_assets_address:\n",
    "    user_data = requests.get(f\"https://api.tzkt.io/v1/accounts/{tz_address}\").json()\n",
    "    if ('type' in user_data.keys() and user_data['type']=='user'):\n",
    "        address.append(user_data['address'])\n",
    "        revealed.append(user_data['revealed'])\n",
    "        balance.append(user_data['balance'])\n",
    "        numTransactions.append(user_data['numTransactions'])\n",
    "        firstActivityTime.append(user_data['firstActivityTime'])\n",
    "        lastActivityTime.append(user_data['lastActivityTime'])\n",
    "    n+=1\n",
    "    time.sleep(10)\n",
    "data = {'Address': address, 'Revealed': revealed, \n",
    "        'Balance': balance, 'NumTransactions': numTransactions, \n",
    "        'FirstActivityTime': firstActivityTime, 'LastActivityTime': lastActivityTime}\n",
    "        \n",
    "\n",
    "    \n"
   ]
  },
  {
   "cell_type": "code",
   "execution_count": 1,
   "id": "60791a11",
   "metadata": {},
   "outputs": [
    {
     "ename": "NameError",
     "evalue": "name 'pd' is not defined",
     "output_type": "error",
     "traceback": [
      "\u001b[0;31m---------------------------------------------------------------------------\u001b[0m",
      "\u001b[0;31mNameError\u001b[0m                                 Traceback (most recent call last)",
      "\u001b[0;32m<ipython-input-1-ec3a8d70c75d>\u001b[0m in \u001b[0;36m<module>\u001b[0;34m\u001b[0m\n\u001b[0;32m----> 1\u001b[0;31m \u001b[0mdf_activity\u001b[0m \u001b[0;34m=\u001b[0m \u001b[0mpd\u001b[0m\u001b[0;34m.\u001b[0m\u001b[0mDataFrame\u001b[0m\u001b[0;34m(\u001b[0m\u001b[0mdata\u001b[0m\u001b[0;34m)\u001b[0m\u001b[0;34m\u001b[0m\u001b[0;34m\u001b[0m\u001b[0m\n\u001b[0m",
      "\u001b[0;31mNameError\u001b[0m: name 'pd' is not defined"
     ]
    }
   ],
   "source": [
    "df_activity = pd.DataFrame(data)"
   ]
  },
  {
   "cell_type": "code",
   "execution_count": null,
   "id": "53a6c1be",
   "metadata": {},
   "outputs": [],
   "source": [
    "df_activity.shape"
   ]
  },
  {
   "cell_type": "code",
   "execution_count": null,
   "id": "6d48e760",
   "metadata": {},
   "outputs": [],
   "source": [
    "df_activity"
   ]
  },
  {
   "cell_type": "code",
   "execution_count": null,
   "id": "7913f515",
   "metadata": {},
   "outputs": [],
   "source": []
  }
 ],
 "metadata": {
  "kernelspec": {
   "display_name": "Python 3",
   "language": "python",
   "name": "python3"
  },
  "language_info": {
   "codemirror_mode": {
    "name": "ipython",
    "version": 3
   },
   "file_extension": ".py",
   "mimetype": "text/x-python",
   "name": "python",
   "nbconvert_exporter": "python",
   "pygments_lexer": "ipython3",
   "version": "3.8.3"
  }
 },
 "nbformat": 4,
 "nbformat_minor": 5
}
